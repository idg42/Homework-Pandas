{
 "cells": [
  {
   "cell_type": "markdown",
   "metadata": {},
   "source": [
    " #  A Whale off the Port(folio)\n",
    "\n",
    " In this assignment, you'll get to use what you've learned this week to evaluate the performance among various algorithmic, hedge, and mutual fund portfolios and compare them against the S&P 500."
   ]
  },
  {
   "cell_type": "markdown",
   "metadata": {},
   "source": [
    "## Whale Returns\n",
    "\n",
    "Read the Whale Portfolio daily returns and clean the data"
   ]
  },
  {
   "cell_type": "markdown",
   "metadata": {},
   "source": [
    "# Data Cleaning\n",
    "\n",
    "In this section, you will need to read the CSV files into DataFrames and perform any necessary data cleaning steps. After cleaning, combine all DataFrames into a single DataFrame.\n",
    "\n",
    "Files:\n",
    "1. whale_returns.csv\n",
    "2. algo_returns.csv\n",
    "3. sp500_history.csv"
   ]
  },
  {
   "cell_type": "code",
   "execution_count": null,
   "metadata": {},
   "outputs": [],
   "source": [
    "import pandas as pd\n",
    "import numpy as np\n",
    "import seaborn as sns\n",
    "import datetime as dt\n",
    "from pathlib import Path\n",
    "\n",
    "%matplotlib inline\n",
    "\n",
    "# Funtion purpose is create csv dataframes in a consistant format.\n",
    "# Function returns a data frame object based on the supplied file name and column to be indexed on.\n",
    "# To retain consistant column formats, the column index is tested for a \"Date\" value\n",
    "# If supplied value is true, the column index is set to the Date column\n",
    "# If supplied value is false, assumed the column index is set to Trade DATE\n",
    "# also Close column is renamed to \"NOCP\"\n",
    "# Dataframe is sorted based on index in ascending order\n",
    "\n",
    "def prep_dataframe_csv(file,col_index):\n",
    "    \n",
    "    filepath = Path(\"Resources/\" + file) \n",
    "    \n",
    "    if col_index == \"Date\":\n",
    "        df_csv = pd.read_csv(filepath, parse_dates=True, index_col=\"Date\", infer_datetime_format=True)\n",
    "        # Sort DataFrame\n",
    "        df_csv.sort_values(\"Date\", ascending=True, inplace=True)\n",
    "    else:\n",
    "        df_csv = pd.read_csv(filepath, parse_dates=True, index_col=\"Trade DATE\", infer_datetime_format=True)\n",
    "        \n",
    "        # Sort DataFrame and rename Close column\n",
    "        df_csv = df_csv.rename(columns ={\"Close\":\"NOCP\"})\n",
    "        df_csv.sort_values(\"Trade DATE\", ascending=True, inplace=True)\n",
    "    return df_csv\n",
    "\n",
    "# Function purpose it to apply column modification to keep portfolio dataframes consistant.\n",
    "# Function returns a data frame object based with the following modification.\n",
    "# Symbol column is added next to index column.\n",
    "# Close column is renamed to NOCP.\n",
    "# Index name is relabled as Trade DATE.\n",
    "\n",
    "def prep_dataframe_columns(df,stock):\n",
    "    \n",
    "    df.insert(0,\"Symbol\", stock)\n",
    "    df = df.rename(columns ={\"Close\":\"NOCP\"})\n",
    "    df = df.rename_axis(\"Trade DATE\")\n",
    "\n",
    "    return df"
   ]
  },
  {
   "cell_type": "code",
   "execution_count": null,
   "metadata": {},
   "outputs": [],
   "source": [
    "# Reading whale returns\n",
    "# Call function to generate DataFrame\n",
    "whale_returns = prep_dataframe_csv(\"whale_returns.csv\",\"Date\")\n",
    "\n",
    "whale_returns.head()"
   ]
  },
  {
   "cell_type": "code",
   "execution_count": null,
   "metadata": {},
   "outputs": [],
   "source": [
    "# Count nulls\n",
    "whale_returns.isnull().sum()\n",
    "#whale_returns.duplicated()"
   ]
  },
  {
   "cell_type": "code",
   "execution_count": null,
   "metadata": {},
   "outputs": [],
   "source": [
    "# Drop nulls\n",
    "whale_returns.dropna(inplace=True)\n",
    "whale_returns.isnull().sum()"
   ]
  },
  {
   "cell_type": "markdown",
   "metadata": {},
   "source": [
    "## Algorithmic Daily Returns\n",
    "\n",
    "Read the algorithmic daily returns and clean the data"
   ]
  },
  {
   "cell_type": "code",
   "execution_count": null,
   "metadata": {},
   "outputs": [],
   "source": [
    "# Reading algorithmic returns\n",
    "# Call function to generate DataFrame\n",
    "algo_returns = prep_dataframe_csv(\"algo_returns.csv\",\"Date\")\n",
    "\n",
    "algo_returns.head()"
   ]
  },
  {
   "cell_type": "code",
   "execution_count": null,
   "metadata": {},
   "outputs": [],
   "source": [
    "# Count nulls\n",
    "algo_returns.isnull().sum()\n",
    "#algo_returns.duplicated()"
   ]
  },
  {
   "cell_type": "code",
   "execution_count": null,
   "metadata": {},
   "outputs": [],
   "source": [
    "# Drop nulls\n",
    "algo_returns.dropna(inplace=True)\n",
    "algo_returns.isnull().sum()"
   ]
  },
  {
   "cell_type": "markdown",
   "metadata": {},
   "source": [
    "## S&P 500 Returns\n",
    "\n",
    "Read the S&P500 Historic Closing Prices and create a new daily returns DataFrame from the data. "
   ]
  },
  {
   "cell_type": "code",
   "execution_count": null,
   "metadata": {},
   "outputs": [],
   "source": [
    "# Reading S&P 500 Closing Prices\n",
    "# Call function to generate DataFrame\n",
    "sp500_price_hist = prep_dataframe_csv(\"sp500_history.csv\",\"Date\")\n",
    "\n",
    "sp500_price_hist.head()"
   ]
  },
  {
   "cell_type": "code",
   "execution_count": null,
   "metadata": {},
   "outputs": [],
   "source": [
    "# Check Data Types\n",
    "sp500_price_hist.dtypes"
   ]
  },
  {
   "cell_type": "code",
   "execution_count": null,
   "metadata": {},
   "outputs": [],
   "source": [
    "# Fix Data Types\n",
    "sp500_price_hist[\"Close\"] = sp500_price_hist[\"Close\"].str.replace(\"$\",\"\")\n",
    "sp500_price_hist[\"Close\"] = sp500_price_hist[\"Close\"].astype(\"float\")\n",
    "sp500_price_hist.dtypes\n",
    "#sp500_price_hist.head()"
   ]
  },
  {
   "cell_type": "code",
   "execution_count": null,
   "metadata": {},
   "outputs": [],
   "source": [
    "# Calculate Daily Returns\n",
    "sp500_returns = sp500_price_hist.pct_change()\n",
    "sp500_returns.head()"
   ]
  },
  {
   "cell_type": "code",
   "execution_count": null,
   "metadata": {},
   "outputs": [],
   "source": [
    "# Drop nulls\n",
    "sp500_returns.dropna(inplace=True)\n",
    "sp500_returns.head()"
   ]
  },
  {
   "cell_type": "code",
   "execution_count": null,
   "metadata": {},
   "outputs": [],
   "source": [
    "# Rename Column\n",
    "sp500_returns.rename(columns ={\"Close\":\"S&P 500\"},inplace=True)\n",
    "sp500_returns.head()"
   ]
  },
  {
   "cell_type": "markdown",
   "metadata": {},
   "source": [
    "## Combine Whale, Algorithmic, and S&P 500 Returns"
   ]
  },
  {
   "cell_type": "code",
   "execution_count": null,
   "metadata": {},
   "outputs": [],
   "source": [
    "# Concatenate all DataFrames into a single DataFrame\n",
    "portfolio_returns = pd.concat([whale_returns,algo_returns,sp500_returns], axis=\"columns\", join=\"inner\")\n",
    "portfolio_returns.head()"
   ]
  },
  {
   "cell_type": "markdown",
   "metadata": {},
   "source": [
    "# Portfolio Analysis\n",
    "\n",
    "In this section, you will calculate and visualize performance and risk metrics for the portfolios."
   ]
  },
  {
   "cell_type": "markdown",
   "metadata": {},
   "source": [
    "## Performance\n",
    "\n",
    "Calculate and Plot the daily returns and cumulative returns. Does any portfolio out perform the S&P 500?\n"
   ]
  },
  {
   "cell_type": "markdown",
   "metadata": {},
   "source": [
    "It is difficult to determine which portfolio is out performing the S&P 500 from the Daily Returns plot.  At the onset they all appear to follow the S&P 500 with TIGER GLOBAL MANAGEMENT LLC showing large spikes in early 2017 and 2019.  More analysis is required.  When looking at the Cummulative Returns plot, Aglo 2 follows the S&P 500 the closest where Algo 1 and Berkshire Hathaway INC are out perfroming the S&P 500  "
   ]
  },
  {
   "cell_type": "code",
   "execution_count": null,
   "metadata": {
    "scrolled": false
   },
   "outputs": [],
   "source": [
    "# Plot daily returns\n",
    "portfolio_returns.plot(figsize=(20,10), title='Daily Returns Comparsion')"
   ]
  },
  {
   "cell_type": "code",
   "execution_count": null,
   "metadata": {
    "scrolled": false
   },
   "outputs": [],
   "source": [
    "# Plot cumulative returns (cumu)\n",
    "portfolio_returns_cumu = (1 + portfolio_returns).cumprod() \n",
    "portfolio_returns_cumu.plot(figsize=(20,10), title='Cumulative Returns Comparison')"
   ]
  },
  {
   "cell_type": "markdown",
   "metadata": {},
   "source": [
    "## Risk\n",
    "\n",
    "Determine the _risk_ of each portfolio:\n",
    "\n",
    "1. Create a box plot for each portfolio. \n",
    "2. Calculate the standard deviation for all portfolios\n",
    "4. Determine which portfolios are riskier than the S&P 500\n",
    "5. Calculate the Annualized Standard Deviation"
   ]
  },
  {
   "cell_type": "markdown",
   "metadata": {},
   "source": [
    "While the median values in the box plots for all the porfilios are roughly the same centered around zero, each portfolio appears to be normally distributed with their median values falling in the middle of each box. Portfolio with the most dispersed data (largest box) is Berkshire Hathaway INC and portfolios with the least dispersed data (smallest box) are Algo 1, S&P 500 and Paulson & CO all very close.  When looking and the data spread, Berkshire Hathaway INC has the largest difference between its min and max values and Algo 1 with smallest.  Portfolio's that are riskier, having standard deviations greater than than the S&P 500 are:\n",
    "\n",
    "BERKSHIRE HATHAWAY INC      = 0.012919\n",
    "\n",
    "TIGER GLOBAL MANAGEMENT LLC = 0.010894\n",
    "\n",
    "Lowest risk is:\n",
    "PAULSON & CO.INC.  = 0.007023079026076193"
   ]
  },
  {
   "cell_type": "code",
   "execution_count": null,
   "metadata": {
    "scrolled": false
   },
   "outputs": [],
   "source": [
    "# Box plot to visually show risk. Which box has the largest spread? Which has the smallest spread?\n",
    "portfolio_boxplot = portfolio_returns.plot(kind='box',figsize=(20,10), title='Portfolio Risk Comparison')\n",
    "portfolio_boxplot.set_xticklabels(portfolio_boxplot.get_xticklabels(), rotation=45, horizontalalignment='right')\n",
    "portfolio_boxplot"
   ]
  },
  {
   "cell_type": "code",
   "execution_count": null,
   "metadata": {},
   "outputs": [],
   "source": [
    "# Daily Standard Deviations\n",
    "# Calculate the standard deviation for each portfolio. \n",
    "portfolio_returns_std = portfolio_returns.std()\n",
    "\n",
    "portfolio_returns_std"
   ]
  },
  {
   "cell_type": "code",
   "execution_count": null,
   "metadata": {},
   "outputs": [],
   "source": [
    "# Which portfolios are riskier than the S&P 500?\n",
    "portfolio_returns_std.loc[portfolio_returns_std >= portfolio_returns_std['S&P 500']].sort_values(ascending=False)"
   ]
  },
  {
   "cell_type": "code",
   "execution_count": null,
   "metadata": {
    "tags": []
   },
   "outputs": [],
   "source": [
    "#Highest risk\n",
    "max_risk_portfolio = portfolio_returns_std[portfolio_returns_std == portfolio_returns_std.max()].index[0]\n",
    "max_risk_value = portfolio_returns_std.max()\n",
    "print(f\" Portfolio with the highest risk:{max_risk_portfolio} = {max_risk_value}\")"
   ]
  },
  {
   "cell_type": "code",
   "execution_count": null,
   "metadata": {
    "tags": []
   },
   "outputs": [],
   "source": [
    "#Lowest risk\n",
    "min_risk_portfolio = portfolio_returns_std[portfolio_returns_std == portfolio_returns_std.min()].index[0]\n",
    "min_risk_value = portfolio_returns_std.min()\n",
    "print(f\" Portfolio with the lowesr risk: {min_risk_portfolio} = {min_risk_value}\")"
   ]
  },
  {
   "cell_type": "code",
   "execution_count": null,
   "metadata": {},
   "outputs": [],
   "source": [
    "# Determine which portfolios are riskier than the S&P 500  - My solution\n",
    "#portfolio_returns_rsky = pd.Series(portfolio_returns_std.values > portfolio_returns_std['S&P 500'])\n",
    "#portfolio_returns_rsky.index=portfolio_returns_std.index\n",
    "#portfolio_returns_rsky"
   ]
  },
  {
   "cell_type": "code",
   "execution_count": null,
   "metadata": {},
   "outputs": [],
   "source": [
    "# Determine which portfolios are riskier than the S&P 500  - TA assisted solution\n",
    "portfolio_returns_std > portfolio_returns_std['S&P 500']\n"
   ]
  },
  {
   "cell_type": "code",
   "execution_count": null,
   "metadata": {},
   "outputs": [],
   "source": [
    "# Calculate the annualized standard deviation (252 trading days)\n",
    "portfolio_returns_std_ann = portfolio_returns_std * np.sqrt(252)\n",
    "portfolio_returns_std_ann"
   ]
  },
  {
   "cell_type": "markdown",
   "metadata": {},
   "source": [
    "---"
   ]
  },
  {
   "cell_type": "markdown",
   "metadata": {},
   "source": [
    "## Rolling Statistics\n",
    "\n",
    "Risk changes over time. Analyze the rolling statistics for Risk and Beta. \n",
    "\n",
    "1. Plot the rolling standard deviation of the various portfolios along with the rolling standard deviation of the S&P 500 (consider a 21 day window). Does the risk increase for each of the portfolios at the same time risk increases in the S&P?\n",
    "2. Construct a correlation table for the algorithmic, whale, and S&P 500 returns. Which returns most closely mimic the S&P?\n",
    "3. Choose one portfolio and plot a rolling beta between that portfolio's returns and S&P 500 returns. Does the portfolio seem sensitive to movements in the S&P 500?\n",
    "4. An alternative way to calculate a rolling window is to take the exponentially weighted moving average. This is like a moving window average, but it assigns greater importance to more recent observations. Try calculating the ewm with a 21 day half-life."
   ]
  },
  {
   "cell_type": "markdown",
   "metadata": {},
   "source": [
    "Upon observing the 21 day rolling standard deviation plot, risk increases for Soros Fund, Algo 1 and Algo 2 follow the S&P 500. Tiger Global follows closely as well with the exception of some sharp spikes in early 2017 and 2018.  Berkshire follows but at a high value, however Paulson & Co follows at a lower value.\n",
    "\n",
    "The returns that closely mimic the S&P 500 is the Algo 2 with a positive correlation of 0.858764.  A close second is Soro's Fund with a positive correlation of 0.837864\n",
    "\n",
    "As a comparison, Berkshire Hathaway was chosen to combare beta values against the S&P 500.  Berkshire does appear sensitive to the S&P with a Beta value of 1.1347891297491723 which means it follows the S&P 500 13% higher value."
   ]
  },
  {
   "cell_type": "code",
   "execution_count": null,
   "metadata": {},
   "outputs": [],
   "source": [
    "# Calculate and plot the rolling standard deviation for\n",
    "# the S&P 500 and whale portfolios using a 21 trading day window\n",
    "portfolio_returns.sort_index(inplace=True)\n",
    "portfolio_returns.rolling(window=21).std().plot(figsize=(20,10), title='21 Day Rolling Standard Deviation Comparison')"
   ]
  },
  {
   "cell_type": "code",
   "execution_count": null,
   "metadata": {},
   "outputs": [],
   "source": [
    "# Construct a correlation table\n",
    "portfolio_corr = portfolio_returns.corr()\n",
    "portfolio_corr"
   ]
  },
  {
   "cell_type": "code",
   "execution_count": null,
   "metadata": {},
   "outputs": [],
   "source": [
    "# Heatmap of correlations  Negative Correlation (Red) Positive (Blue)\n",
    "sns.heatmap(portfolio_corr, vmin=-1, vmax=1,cmap=sns.diverging_palette(20, 220, n=200),annot = True)"
   ]
  },
  {
   "cell_type": "code",
   "execution_count": null,
   "metadata": {},
   "outputs": [],
   "source": [
    "# Calculate Beta for a single portfolio compared to the total market (S&P 500)\n",
    "# (Your graph may differ, dependent upon which portfolio you are comparing)\n",
    "variance = portfolio_returns['S&P 500'].var()\n",
    "covariance = portfolio_returns['BERKSHIRE HATHAWAY INC'].cov(portfolio_returns['S&P 500'])\n",
    "berk_beta = covariance/variance\n",
    "berk_beta"
   ]
  },
  {
   "cell_type": "code",
   "execution_count": null,
   "metadata": {},
   "outputs": [],
   "source": [
    "#Calculate 21-Day Rolling covariance of BERKSHIRE HATHAWAY INC Returns vs. S&P 500 Returns\n",
    "berk_roll_cov = portfolio_returns['BERKSHIRE HATHAWAY INC'].rolling(window=21).cov(portfolio_returns['S&P 500'])\n",
    "\n",
    "# Calculate 21-day rolling variance of S&P 500 Returns \n",
    "berk_roll_var = portfolio_returns['S&P 500'].rolling(window=21).var()\n",
    "\n",
    "#Calculate rolling beta for BERKSHIRE HATHAWAY INC Returns\n",
    "berk_roll_beta = berk_roll_cov / berk_roll_var\n",
    "\n",
    "#Plot of 21-day BETA of BERKSHIRE HATHAWAY INC\n",
    "berk_roll_beta.plot(figsize=(20, 10), title='Rolling 21-Day BETA for BERKSHIRE HATHAWAY INC Returns vs. S&P 500 Returns')"
   ]
  },
  {
   "cell_type": "code",
   "execution_count": null,
   "metadata": {},
   "outputs": [],
   "source": [
    "#Plot of 21-day variance of BERKSHIRE HATHAWAY INC\n",
    "berk_roll_var.plot(figsize=(20, 10), title='Rolling 21-Day Variance for BERKSHIRE HATHAWAY INC Returns vs. S&P 500 Returns')"
   ]
  },
  {
   "cell_type": "code",
   "execution_count": null,
   "metadata": {},
   "outputs": [],
   "source": [
    "#Plot of 21-day covariance of BERKSHIRE HATHAWAY INC\n",
    "berk_roll_cov.plot(figsize=(20, 10), title='Rolling 21-Day Covariance for BERKSHIRE HATHAWAY INC Returns vs. S&P 500 Returns')"
   ]
  },
  {
   "cell_type": "code",
   "execution_count": null,
   "metadata": {},
   "outputs": [],
   "source": [
    "# Calculate a rolling window using the exponentially weighted moving average. \n",
    "portfolio_returns_ewm = portfolio_returns.ewm(halflife=21).std()\n",
    "#portfolio_returns_ewm.head()\n",
    "portfolio_returns_ewm.plot(figsize=(20, 10))"
   ]
  },
  {
   "cell_type": "markdown",
   "metadata": {},
   "source": [
    "---"
   ]
  },
  {
   "cell_type": "markdown",
   "metadata": {},
   "source": [
    "## Sharpe Ratios\n",
    "In reality, investment managers and thier institutional investors look at the ratio of return-to-risk, and not just returns alone. (After all, if you could invest in one of two portfolios, each offered the same 10% return, yet one offered lower risk, you'd take that one, right?)\n",
    "\n",
    "1. Using the daily returns, calculate and visualize the Sharpe ratios using a bar plot.\n",
    "2. Determine whether the algorithmic strategies outperform both the market (S&P 500) and the whales portfolios."
   ]
  },
  {
   "cell_type": "markdown",
   "metadata": {},
   "source": [
    "***On the basis of this performance metric, do our algo strategies outperform both 'the market' and the whales? Type your answer here:***\n",
    "\n",
    "From the Sharpe Ratios and bar plot, Algo 1 out performs both the S&P 500 and all the Whale portfolios.  Berkshire Hathaway, Whale portfolio's top performer only slightly out performed Algo 2."
   ]
  },
  {
   "cell_type": "code",
   "execution_count": null,
   "metadata": {},
   "outputs": [],
   "source": [
    "# Calculate annualized Sharpe Ratios (shrpr)\n",
    "\n",
    "portfolio_returns_shrpr = (portfolio_returns.mean()*252)/(portfolio_returns_std*np.sqrt(252))\n",
    "portfolio_returns_shrpr"
   ]
  },
  {
   "cell_type": "code",
   "execution_count": null,
   "metadata": {},
   "outputs": [],
   "source": [
    "# Visualize the sharpe ratios as a bar plot\n",
    "port_boxplot = portfolio_returns_shrpr.plot(kind='bar',figsize=(10,5), title=\"Sharpe Ratios Comparison\")\n",
    "port_boxplot.set_xticklabels(port_boxplot.get_xticklabels(), rotation=45, horizontalalignment='right')\n",
    "port_boxplot"
   ]
  },
  {
   "cell_type": "markdown",
   "metadata": {},
   "source": [
    "---"
   ]
  },
  {
   "cell_type": "markdown",
   "metadata": {},
   "source": [
    "# Portfolio Returns\n",
    "\n",
    "In this section, you will build your own portfolio of stocks, calculate the returns, and compare the results to the Whale Portfolios and the S&P 500. \n",
    "\n",
    "1. Visit [Google Sheets](https://docs.google.com/spreadsheets/) and use the in-built Google Finance function to choose 3-5 stocks for your own portfolio.\n",
    "2. Download the data as CSV files and calculate the portfolio returns.\n",
    "3. Calculate the returns for each stock.\n",
    "4. Using those returns, calculate the weighted returns for your entire portfolio assuming an equal number of shares for each stock.\n",
    "5. Add your portfolio returns to the DataFrame with the other portfolios and rerun the analysis. How does your portfolio fair?\n",
    "\n",
    "\n",
    "## Your analysis should include the following:\n",
    "\n",
    "- Using all portfolios:\n",
    " - The annualized standard deviation (252 trading days) for all portfolios.\n",
    " - The plotted rolling standard deviation using a 21 trading day window for all portfolios.\n",
    " - The calculated annualized Sharpe Ratios and the accompanying bar plot visualization.\n",
    " - A correlation table.\n",
    "- Using your custom portfolio and one other of your choosing:\n",
    " - The plotted beta. "
   ]
  },
  {
   "cell_type": "markdown",
   "metadata": {},
   "source": [
    "## Choose 3-5 custom stocks with at last 1 year's worth of historic prices and create a DataFrame of the closing prices and dates for each stock."
   ]
  },
  {
   "cell_type": "code",
   "execution_count": null,
   "metadata": {},
   "outputs": [],
   "source": [
    "# Read the first stock - Google\n",
    "# Call function to generate DataFrame\n",
    "GOOG_price_hist = prep_dataframe_csv(\"goog_historical.csv\", \"Trade DATE\")\n",
    "\n",
    "# Sort DataFrame\n",
    "GOOG_price_hist.sort_values(\"Trade DATE\", ascending=True, inplace=True)\n",
    "GOOG_price_hist.head()"
   ]
  },
  {
   "cell_type": "code",
   "execution_count": null,
   "metadata": {},
   "outputs": [],
   "source": [
    "# Read the second stock - Apple\n",
    "# Call function to generate DataFrame\n",
    "AAPL_price_hist = prep_dataframe_csv(\"aapl_historical.csv\",\"Trade DATE\")\n",
    "\n",
    "AAPL_price_hist.head()"
   ]
  },
  {
   "cell_type": "code",
   "execution_count": null,
   "metadata": {},
   "outputs": [],
   "source": [
    "# Read the third stock - Costco\n",
    "# Call function to generate DataFrame\n",
    "COST_price_hist = prep_dataframe_csv(\"cost_historical.csv\",\"Trade DATE\")\n",
    "\n",
    "COST_price_hist.head()"
   ]
  },
  {
   "cell_type": "code",
   "execution_count": null,
   "metadata": {},
   "outputs": [],
   "source": [
    "# Read the forth stock - Shopify - Data supplied by Google Finance Function and Google Sheets\n",
    "# Call function to generate DataFrame\n",
    "SHOP_price_hist = prep_dataframe_csv(\"shop_historical.csv\",\"Date\")\n",
    "\n",
    "# Format DataFrame to be consistant with other DataFrame, add Symbol column\n",
    "SHOP_price_hist = prep_dataframe_columns(SHOP_price_hist,\"SHOP\")\n",
    "\n",
    "SHOP_price_hist.head()"
   ]
  },
  {
   "cell_type": "code",
   "execution_count": null,
   "metadata": {},
   "outputs": [],
   "source": [
    "# Read the fifth stock - Intuit - - Data supplied by Google Finance Function and Google Sheets\n",
    "# Call function to generate DataFrame\n",
    "INTU_price_hist = prep_dataframe_csv(\"intu_returns.csv\",\"Date\")\n",
    "\n",
    "# Format DataFrame to be consistant with other DataFrame, add Symbol column\n",
    "INTU_price_hist = prep_dataframe_columns(INTU_price_hist,\"INTU\")\n",
    "\n",
    "INTU_price_hist.head()"
   ]
  },
  {
   "cell_type": "code",
   "execution_count": null,
   "metadata": {},
   "outputs": [],
   "source": [
    "# Concatenate all stocks into a single DataFrame\n",
    "my_portfolio_hist = pd.concat([GOOG_price_hist, AAPL_price_hist, COST_price_hist, SHOP_price_hist,INTU_price_hist], axis=\"rows\", join=\"inner\")\n",
    "my_portfolio_hist.head()"
   ]
  },
  {
   "cell_type": "code",
   "execution_count": null,
   "metadata": {},
   "outputs": [],
   "source": [
    "# Reset the index\n",
    "my_portfolio_hist = my_portfolio_hist.reset_index()\n",
    "my_portfolio_hist.head()"
   ]
  },
  {
   "cell_type": "code",
   "execution_count": null,
   "metadata": {},
   "outputs": [],
   "source": [
    "# Pivot so that each column of prices represents a unique symbol\n",
    "my_portfolio_hist = my_portfolio_hist.pivot(columns=\"Symbol\", values=\"NOCP\", index=\"Trade DATE\").copy()\n",
    "my_portfolio_hist.head()"
   ]
  },
  {
   "cell_type": "code",
   "execution_count": null,
   "metadata": {},
   "outputs": [],
   "source": [
    "# Drop Nulls\n",
    "my_portfolio_hist.dropna(inplace=True)\n",
    "my_portfolio_hist.head()"
   ]
  },
  {
   "cell_type": "markdown",
   "metadata": {},
   "source": [
    "## Calculate the weighted returns for the portfolio assuming an equal number of shares for each stock"
   ]
  },
  {
   "cell_type": "code",
   "execution_count": null,
   "metadata": {
    "scrolled": true
   },
   "outputs": [],
   "source": [
    "# Calculate Daily Returns\n",
    "my_portfolio_returns = my_portfolio_hist.pct_change().copy()\n",
    "my_portfolio_returns\n",
    "\n",
    "# Calculate weighted portfolio returns\n",
    "AAPL_weight = 0.2\n",
    "COST_weight = 0.2\n",
    "GOOG_weight = 0.2\n",
    "INTU_weight = 0.2\n",
    "SHOP_weight = 0.2\n",
    "\n",
    "my_portfolio_returns = AAPL_weight * my_portfolio_returns[\"AAPL\"] + COST_weight * my_portfolio_returns[\"COST\"] + GOOG_weight * my_portfolio_returns[\"GOOG\"] + INTU_weight * my_portfolio_returns[\"INTU\"] + SHOP_weight * my_portfolio_returns[\"SHOP\"]\n",
    "my_portfolio_returns.rename_axis(\"Date\", inplace=True)\n",
    "my_portfolio_returns.head()"
   ]
  },
  {
   "cell_type": "markdown",
   "metadata": {},
   "source": [
    "## Join your portfolio returns to the DataFrame that contains all of the portfolio returns"
   ]
  },
  {
   "cell_type": "code",
   "execution_count": null,
   "metadata": {
    "scrolled": true
   },
   "outputs": [],
   "source": [
    "# Add your \"Custom\" portfolio to the larger dataframe of fund returns\n",
    "cust_portfolio_returns = pd.concat([portfolio_returns,my_portfolio_returns],axis=\"columns\", join=\"inner\")\n",
    "cust_portfolio_returns.rename(columns={0:\"Custom\"},inplace=True)\n",
    "cust_portfolio_returns.head()"
   ]
  },
  {
   "cell_type": "code",
   "execution_count": null,
   "metadata": {},
   "outputs": [],
   "source": [
    "# Only compare dates where return data exists for all the stocks (drop NaNs)\n",
    "cust_portfolio_returns.dropna(inplace=True)\n",
    "cust_portfolio_returns.head()"
   ]
  },
  {
   "cell_type": "markdown",
   "metadata": {},
   "source": [
    "## Re-run the performance and risk analysis with your portfolio to see how it compares to the others"
   ]
  },
  {
   "cell_type": "markdown",
   "metadata": {},
   "source": [
    "## Performance"
   ]
  },
  {
   "cell_type": "markdown",
   "metadata": {},
   "source": [
    "Again it is difficult to determine if the Custom portfolio is out perfoming the S&P 500 and the Whale Portfolios from the Daily Returns plot.  At the onset they all appear to follow the S&P 500 with TIGER GLOBAL MANAGEMENT LLC showing a large downward spike in early 2019.  More analysis is required.  When looking at the Cummulative Returns plot for the 2 year period, Paulson Co follows the S&P 500 the closest where Algo 2 and the Custom portfolio are out perfroming the S&P 500  "
   ]
  },
  {
   "cell_type": "code",
   "execution_count": null,
   "metadata": {
    "scrolled": false
   },
   "outputs": [],
   "source": [
    "# Plot daily returns\n",
    "cust_portfolio_returns.plot(figsize=(20,10), title='Daily Returns Comparison of Custom Portfolio')"
   ]
  },
  {
   "cell_type": "code",
   "execution_count": null,
   "metadata": {
    "scrolled": false
   },
   "outputs": [],
   "source": [
    "# Plot cumulative returns (cumu)\n",
    "cust_port_returns_cumu = (1 + cust_portfolio_returns).cumprod()-1\n",
    "cust_port_returns_cumu.plot(figsize=(20,10), title='Cumulative Returns Comparison of Custom Portfolio')"
   ]
  },
  {
   "cell_type": "markdown",
   "metadata": {},
   "source": [
    "## Risk"
   ]
  },
  {
   "cell_type": "markdown",
   "metadata": {},
   "source": [
    "***It should be noted that from the previous analysis, the data sample spanned from 2015 to 2019.  Time frame of the custom portfolio analisys spans Jun 2018 to May 2019.  This will impact the results of the analysis.***\n",
    "\n",
    "Median values in the box plots for our Custom portolio is higher then the S&P 500 but appears to be normally distributed with the median value falling in the middle of the box. Data has about the same dispersment as than that of Berkshire Hathaway but more dispersed the S&P 500. When looking at the data spread, Berkshire Hathaway INC has the same difference between its min and max values as our Custom portfolio. The Custom Portfolio now has the higher standard deviation that is greater than the S&P 500 :\n",
    "\n",
    "Custom = 0.016014\n",
    "\n",
    "BERKSHIRE HATHAWAY INC = 0.015569\n",
    "\n",
    "TIGER GLOBAL MANAGEMENT LLC = 0.014648\n",
    "\n",
    "Lowest risk is: PAULSON & CO.INC. = 0.007353"
   ]
  },
  {
   "cell_type": "code",
   "execution_count": null,
   "metadata": {},
   "outputs": [],
   "source": [
    "# Risk\n",
    "# Box plot to visually show risk\n",
    "cust_port_boxplot = cust_portfolio_returns.plot(kind='box', figsize=(20,10), title='Custom Portfolio Risk Comparison')\n",
    "cust_port_boxplot.set_xticklabels(cust_port_boxplot.get_xticklabels(), rotation=45, horizontalalignment='right')\n",
    "cust_port_boxplot"
   ]
  },
  {
   "cell_type": "code",
   "execution_count": null,
   "metadata": {},
   "outputs": [],
   "source": [
    "# Calculate the standard deviation for each portfolio. \n",
    "cust_port_returns_std = cust_portfolio_returns.std()\n",
    "cust_port_returns_std"
   ]
  },
  {
   "cell_type": "code",
   "execution_count": null,
   "metadata": {},
   "outputs": [],
   "source": [
    "# Which portfolios are riskier than the S&P 500?\n",
    "cust_port_returns_std.loc[cust_port_returns_std >= cust_port_returns_std['S&P 500']].sort_values(ascending=False)"
   ]
  },
  {
   "cell_type": "code",
   "execution_count": null,
   "metadata": {
    "tags": []
   },
   "outputs": [],
   "source": [
    "#Highest risk\n",
    "cust_max_risk_port = cust_port_returns_std[cust_port_returns_std == cust_port_returns_std.max()].index[0]\n",
    "cust_max_risk_value = cust_port_returns_std.max()\n",
    "print(f\" Portfolio with the highest risk: {cust_max_risk_port} = {cust_max_risk_value}\")"
   ]
  },
  {
   "cell_type": "code",
   "execution_count": null,
   "metadata": {
    "tags": []
   },
   "outputs": [],
   "source": [
    "#Lowest risk\n",
    "cust_min_risk_port = cust_port_returns_std[cust_port_returns_std == cust_port_returns_std.min()].index[0]\n",
    "cust_min_risk_value = cust_port_returns_std.min()\n",
    "print(f\" Portfolio with the lowesr risk:{cust_min_risk_port} = {cust_min_risk_value}\")"
   ]
  },
  {
   "cell_type": "markdown",
   "metadata": {},
   "source": [
    "## Rolling Statistics\n",
    "\n",
    "Upon observing the 21 day rolling standard deviation plot, risk increases for Soros Fund, Algo 1 and Algo 2 follow the S&P 500. Tiger Global follows closely as well with the \n",
    "exception of a large sharp spike in 2019-03/04. Our Custom portfolio follows at a higher rate close with Berkshire Hathaway.\n",
    "\n",
    "The returns that closely mimic the S&P 500 are the Soro's Fund with a positive correlation of 0.876981. A close second is Algo 1 Fund with a positive correlation of 0.875721.  Our Custom portfolio is positivily corralated with the S&P 500 with a value of 0.866738\n",
    "\n",
    "For a comparison, Berkshire Hathaway, Algo 2 and the Custom portfolio was chosen to combare beta values against the S&P 500. Berkshire and the Custom portfolios are sensitive to the S&P with the Custom portfolio\n",
    "Beta value of 1.4491106488679828 which means it follows the S&P 500 at a 44% higher value.  Beta values for Algo 2 is 0.8037439333709113 and BERKSHIRE HATHAWAY INC equals 1.3853682313573936. \n",
    "\n",
    "If we look at the 21-day Beta graph, we can see how similar our Custom portfolio and Berkshire Hathaway are, being more volitile than Algo 2 when compared with the S&P 500\n"
   ]
  },
  {
   "cell_type": "code",
   "execution_count": null,
   "metadata": {},
   "outputs": [],
   "source": [
    "# Calculate and plot the rolling standard deviation for\n",
    "# the S&P 500 and whale portfolios using a 21 trading day window\n",
    "cust_portfolio_returns.sort_index(inplace=True)\n",
    "cust_portfolio_returns.rolling(window=21).std().plot(figsize=(20,10), title='21 Day Rolling Standard Deviation Comparison of Custom Portfolio')"
   ]
  },
  {
   "cell_type": "code",
   "execution_count": null,
   "metadata": {},
   "outputs": [],
   "source": [
    "# Construct a correlation table\n",
    "cust_port_corr = cust_portfolio_returns.corr()\n",
    "cust_port_corr"
   ]
  },
  {
   "cell_type": "code",
   "execution_count": null,
   "metadata": {},
   "outputs": [],
   "source": [
    "# Heatmap of correlations  Negative Correlation (Red) Positive (Blue)\n",
    "sns.heatmap(cust_port_corr, vmin=-1, vmax=1,cmap=sns.diverging_palette(20, 220, n=200),annot = True)"
   ]
  },
  {
   "cell_type": "code",
   "execution_count": null,
   "metadata": {},
   "outputs": [],
   "source": [
    "# Calculate Beta for BERKSHIRE HATHAWAY INC, Custom and Algo 2 compared to the total market (S&P 500)\n",
    "\n",
    "# Calculate variance of all daily returns of portfolios vs. S&P 500\n",
    "cust_sp500_var = cust_portfolio_returns['S&P 500'].var()"
   ]
  },
  {
   "cell_type": "code",
   "execution_count": null,
   "metadata": {},
   "outputs": [],
   "source": [
    "# Calculate covariance of all daily returns for BERKSHIRE HATHAWAY INC, Custom and Algo 2 vs. S&P 500\n",
    "cust_covariance = cust_portfolio_returns['Custom'].cov(cust_portfolio_returns['S&P 500'])\n",
    "algo_covariance = cust_portfolio_returns['Algo 2'].cov(cust_portfolio_returns['S&P 500'])\n",
    "berk_covariance = cust_portfolio_returns['BERKSHIRE HATHAWAY INC'].cov(cust_portfolio_returns['S&P 500'])"
   ]
  },
  {
   "cell_type": "code",
   "execution_count": null,
   "metadata": {
    "tags": []
   },
   "outputs": [],
   "source": [
    "# Calculate beta of BERKSHIRE HATHAWAY INC, Custom and Algo 2 vs. S&P 500\n",
    "cust_beta = cust_covariance / cust_sp500_var\n",
    "algo_beta = algo_covariance / cust_sp500_var\n",
    "berk_beta = berk_covariance / cust_sp500_var\n",
    "\n",
    "print(\"Beta Values\")\n",
    "print(f\"Custom: {cust_beta} | Algo 2: {algo_beta} | BERKSHIRE HATHAWAY INC: {berk_beta}\")"
   ]
  },
  {
   "cell_type": "code",
   "execution_count": null,
   "metadata": {},
   "outputs": [],
   "source": [
    "# Calculate 21-day rolling covariance of BERKSHIRE HATHAWAY INC, Custom and Algo 2 vs. S&P 500\n",
    "cust_roll_cov = cust_portfolio_returns['Custom'].rolling(window=21).cov(cust_portfolio_returns['S&P 500'])\n",
    "cust_algo_roll_cov = cust_portfolio_returns['Algo 2'].rolling(window=21).cov(cust_portfolio_returns['S&P 500'])\n",
    "cust_berk_roll_cov = cust_portfolio_returns['BERKSHIRE HATHAWAY INC'].rolling(window=21).cov(cust_portfolio_returns['S&P 500'])"
   ]
  },
  {
   "cell_type": "code",
   "execution_count": null,
   "metadata": {},
   "outputs": [],
   "source": [
    "#Plot of 21-day covariance of BERKSHIRE HATHAWAY INC\n",
    "ax = cust_roll_cov.plot(figsize=(20, 10), title='Rolling 21-Day Covariance Comparison of Custom Portfolio')\n",
    "cust_algo_roll_cov.plot(ax=ax)\n",
    "cust_berk_roll_cov.plot(ax=ax)\n",
    "\n",
    "# Set the legend of the figure\n",
    "ax.legend([\"Custom\", \"Algo 2\", \"BERKSHIRE HATHAWAY INC\"])"
   ]
  },
  {
   "cell_type": "code",
   "execution_count": null,
   "metadata": {},
   "outputs": [],
   "source": [
    "# Calculate 21-day rolling variance of S&P 500\n",
    "cust_sp500_roll_var = cust_portfolio_returns['S&P 500'].rolling(window=21).var()"
   ]
  },
  {
   "cell_type": "code",
   "execution_count": null,
   "metadata": {},
   "outputs": [],
   "source": [
    "# Calculate 21-day rolling beta of BERKSHIRE HATHAWAY INC, Custom and Algo 2 vs. S&P 500\n",
    "cust_roll_beta = cust_roll_cov / cust_sp500_roll_var\n",
    "cust_algo_roll_beta = cust_algo_roll_cov / cust_sp500_roll_var\n",
    "cust_berk_roll_beta = cust_berk_roll_cov / cust_sp500_roll_var"
   ]
  },
  {
   "cell_type": "code",
   "execution_count": null,
   "metadata": {},
   "outputs": [],
   "source": [
    "# Plot the different datasets on same graph.\n",
    "ax = cust_roll_beta.plot(figsize=(20, 10), title='Rolling 21-Day Beta Comparios of Custom Portfolio')\n",
    "cust_algo_roll_beta.plot(ax=ax)\n",
    "cust_berk_roll_beta.plot(ax=ax)\n",
    "\n",
    "# Set the legend of the figure\n",
    "ax.legend([\"Custom\", \"Algo 2\", \"BERKSHIRE HATHAWAY INC\"])"
   ]
  },
  {
   "cell_type": "markdown",
   "metadata": {},
   "source": [
    "## Sharpe Ratio\n",
    "\n",
    "From the Sharpe Ratios and bar plot, Algo 1 still out performs both the S&P 500 and all the Whale portfolios including the Custom portfolio.  The Custom portfolio placed second."
   ]
  },
  {
   "cell_type": "code",
   "execution_count": null,
   "metadata": {},
   "outputs": [],
   "source": [
    "# Calculate annualized Sharpe Ratios (shrpr)\n",
    "\n",
    "cust_port_returns_shrpr = (cust_portfolio_returns.mean()*252)/(cust_port_returns_std*np.sqrt(252))\n",
    "cust_port_returns_shrpr.sort_values(ascending=False)"
   ]
  },
  {
   "cell_type": "code",
   "execution_count": null,
   "metadata": {},
   "outputs": [],
   "source": [
    "# Visualize the sharpe ratios as a bar plot\n",
    "cust_port_boxplot =cust_port_returns_shrpr.plot(kind='bar',figsize=(10,5), title=\"Sharpe Ratios Comparison of Custom Portfolio\")\n",
    "cust_port_boxplot.set_xticklabels(cust_port_boxplot.get_xticklabels(), rotation=45, horizontalalignment='right')\n",
    "cust_port_boxplot"
   ]
  },
  {
   "cell_type": "code",
   "execution_count": null,
   "metadata": {},
   "outputs": [],
   "source": []
  }
 ],
 "metadata": {
  "file_extension": ".py",
  "kernelspec": {
   "display_name": "Python 3",
   "language": "python",
   "name": "python3"
  },
  "language_info": {
   "codemirror_mode": {
    "name": "ipython",
    "version": 3
   },
   "file_extension": ".py",
   "mimetype": "text/x-python",
   "name": "python",
   "nbconvert_exporter": "python",
   "pygments_lexer": "ipython3",
   "version": "3.7.6"
  },
  "mimetype": "text/x-python",
  "name": "python",
  "npconvert_exporter": "python",
  "pygments_lexer": "ipython3",
  "version": 3
 },
 "nbformat": 4,
 "nbformat_minor": 4
}
